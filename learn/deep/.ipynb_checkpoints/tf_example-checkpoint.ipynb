{
 "cells": [
  {
   "cell_type": "code",
   "execution_count": 2,
   "metadata": {},
   "outputs": [
    {
     "name": "stdout",
     "output_type": "stream",
     "text": [
      "Epoch: 0001 cost= 0.388139665 W= 0.47309527 b= 0.013943263\n",
      "Epoch: 0051 cost= 0.112213969 W= 0.35463694 b= 0.045792118\n",
      "Epoch: 0101 cost= 0.108140022 W= 0.34838942 b= 0.09073562\n",
      "Epoch: 0151 cost= 0.104536757 W= 0.3425136 b= 0.13300617\n",
      "Epoch: 0201 cost= 0.101349868 W= 0.3369873 b= 0.1727626\n",
      "Epoch: 0251 cost= 0.098531224 W= 0.33178955 b= 0.21015476\n",
      "Epoch: 0301 cost= 0.096038304 W= 0.32690093 b= 0.245323\n",
      "Epoch: 0351 cost= 0.093833558 W= 0.3223031 b= 0.2783994\n",
      "Epoch: 0401 cost= 0.091883570 W= 0.31797874 b= 0.30950907\n",
      "Epoch: 0451 cost= 0.090159088 W= 0.31391156 b= 0.3387677\n",
      "Epoch: 0501 cost= 0.088633947 W= 0.31008625 b= 0.36628652\n",
      "Epoch: 0551 cost= 0.087285116 W= 0.30648848 b= 0.39216894\n",
      "Epoch: 0601 cost= 0.086092278 W= 0.30310467 b= 0.41651168\n",
      "Epoch: 0651 cost= 0.085037410 W= 0.29992208 b= 0.43940657\n",
      "Epoch: 0701 cost= 0.084104501 W= 0.29692885 b= 0.46094015\n",
      "Epoch: 0751 cost= 0.083279528 W= 0.2941135 b= 0.48119336\n",
      "Epoch: 0801 cost= 0.082550019 W= 0.2914656 b= 0.50024134\n",
      "Epoch: 0851 cost= 0.081904933 W= 0.28897542 b= 0.51815647\n",
      "Epoch: 0901 cost= 0.081334494 W= 0.28663325 b= 0.5350059\n",
      "Epoch: 0951 cost= 0.080830067 W= 0.2844302 b= 0.55085397\n",
      "Epoch: 1001 cost= 0.080384038 W= 0.28235826 b= 0.56575984\n",
      "Epoch: 1051 cost= 0.079989657 W= 0.2804095 b= 0.57977915\n",
      "Epoch: 1101 cost= 0.079640962 W= 0.27857667 b= 0.59296435\n",
      "Epoch: 1151 cost= 0.079332620 W= 0.27685258 b= 0.6053671\n",
      "Epoch: 1201 cost= 0.079060070 W= 0.27523142 b= 0.6170298\n",
      "Epoch: 1251 cost= 0.078819133 W= 0.2737068 b= 0.6279982\n",
      "Epoch: 1301 cost= 0.078606129 W= 0.2722728 b= 0.63831383\n",
      "Epoch: 1351 cost= 0.078417808 W= 0.27092406 b= 0.64801663\n",
      "Epoch: 1401 cost= 0.078251325 W= 0.2696554 b= 0.6571432\n",
      "Epoch: 1451 cost= 0.078104198 W= 0.2684622 b= 0.6657266\n",
      "Epoch: 1501 cost= 0.077974118 W= 0.2673401 b= 0.6737991\n",
      "Epoch: 1551 cost= 0.077859148 W= 0.26628473 b= 0.68139166\n",
      "Epoch: 1601 cost= 0.077757537 W= 0.26529205 b= 0.68853277\n",
      "Epoch: 1651 cost= 0.077667728 W= 0.26435837 b= 0.6952493\n",
      "Epoch: 1701 cost= 0.077588372 W= 0.26348042 b= 0.70156616\n",
      "Epoch: 1751 cost= 0.077518247 W= 0.26265433 b= 0.70750797\n",
      "Epoch: 1801 cost= 0.077456281 W= 0.26187745 b= 0.71309674\n",
      "Epoch: 1851 cost= 0.077401519 W= 0.26114687 b= 0.71835274\n",
      "Epoch: 1901 cost= 0.077353142 W= 0.2604597 b= 0.72329617\n",
      "Epoch: 1951 cost= 0.077310413 W= 0.25981343 b= 0.7279457\n",
      "Optimization Finished!\n",
      "cost= 0.07727336 W= 0.2592173 b= 0.73223424\n"
     ]
    },
    {
     "data": {
      "image/png": "[encoded data removed]",
      "text/plain": [
       "<Figure size 432x288 with 1 Axes>"
      ]
     },
     "metadata": {
      "needs_background": "light"
     },
     "output_type": "display_data"
    }
   ],
   "source": [
    "# 线性回归\n",
    "import tensorflow as tf\n",
    "import numpy as np\n",
    "import matplotlib.pyplot as plt\n",
    "%matplotlib inline\n",
    "\n",
    "rng = np.random\n",
    "\n",
    "learning_rate = 0.01\n",
    "training_epochs = 2000\n",
    "display_step = 50\n",
    "\n",
    "train_X = np.asarray([3.3,4.4,5.5,6.71,6.93,4.168,9.779,6.182,7.59,2.167,7.042,10.791,5.313,7.997,5.654,9.27,3.1])\n",
    "train_Y = np.asarray([1.7,2.76,2.09,3.19,1.694,1.573,3.366,2.596,2.53,1.221,2.827,3.465,1.65,2.904,2.42,2.94,1.3])\n",
    "n_samples = train_X.shape[0]\n",
    "\n",
    "X = tf.placeholder(\"float\")\n",
    "Y = tf.placeholder(\"float\")\n",
    "\n",
    "W = tf.Variable(rng.randn(), name=\"weight\")\n",
    "b = tf.Variable(rng.randn(), name=\"bias\")\n",
    "# Y = WX + b\n",
    "activation = tf.add(tf.multiply(X, W), b)\n",
    "\n",
    "cost = tf.reduce_sum(tf.pow(activation-Y, 2))/(2*n_samples)\n",
    "optimizer = tf.train.GradientDescentOptimizer(learning_rate).minimize(cost)\n",
    "\n",
    "init = tf.global_variables_initializer()\n",
    "\n",
    "with tf.Session() as sess:\n",
    "    sess.run(init)\n",
    "    \n",
    "    for epoch in range(training_epochs):\n",
    "        for(x,y) in zip(train_X, train_Y):\n",
    "            sess.run(optimizer, feed_dict={X:x,Y:y})\n",
    "        \n",
    "        if epoch % display_step == 0:\n",
    "            print(\"Epoch:\", '%04d' % (epoch+1), \"cost=\", \\\n",
    "                \"{:.9f}\".format(sess.run(cost, feed_dict={X: train_X, Y:train_Y})), \\\n",
    "                \"W=\", sess.run(W), \"b=\", sess.run(b))\n",
    "    print(\"Optimization Finished!\")\n",
    "    print(\"cost=\", sess.run(cost, feed_dict={X: train_X, Y: train_Y}), \\\n",
    "          \"W=\", sess.run(W), \"b=\", sess.run(b))\n",
    "    \n",
    "    plt.plot(train_X, train_Y, 'ro', label='Original data')\n",
    "    plt.plot(train_X, sess.run(W) * train_X + sess.run(b), label='Fitted line')\n",
    "    plt.legend()\n",
    "    plt.show()"
   ]
  },
  {
   "cell_type": "code",
   "execution_count": null,
   "metadata": {},
   "outputs": [],
   "source": []
  }
 ],
 "metadata": {
  "kernelspec": {
   "display_name": "Python 3",
   "language": "python",
   "name": "python3"
  },
  "language_info": {
   "codemirror_mode": {
    "name": "ipython",
    "version": 3
   },
   "file_extension": ".py",
   "mimetype": "text/x-python",
   "name": "python",
   "nbconvert_exporter": "python",
   "pygments_lexer": "ipython3",
   "version": "3.7.3"
  }
 },
 "nbformat": 4,
 "nbformat_minor": 2
}
